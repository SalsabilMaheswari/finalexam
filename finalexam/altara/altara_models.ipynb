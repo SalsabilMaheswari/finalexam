{
  "nbformat": 4,
  "nbformat_minor": 0,
  "metadata": {
    "colab": {
      "provenance": []
    },
    "kernelspec": {
      "name": "python3",
      "display_name": "Python 3"
    },
    "language_info": {
      "name": "python"
    }
  },
  "cells": [
    {
      "cell_type": "code",
      "execution_count": 4,
      "metadata": {
        "id": "jLdB6pss9ShI",
        "outputId": "024cdee6-e673-4177-870b-c1d0b1d020a6",
        "colab": {
          "base_uri": "https://localhost:8080/"
        }
      },
      "outputs": [
        {
          "output_type": "stream",
          "name": "stdout",
          "text": [
            "Label Encoding untuk konsistensi: {'Konsisten': np.int64(0), 'Naik': np.int64(1), 'Turun': np.int64(2)}\n",
            "\n",
            "[Eligible Beasiswa]\n",
            "              precision    recall  f1-score   support\n",
            "\n",
            "           0       1.00      1.00      1.00        24\n",
            "           1       1.00      1.00      1.00         1\n",
            "\n",
            "    accuracy                           1.00        25\n",
            "   macro avg       1.00      1.00      1.00        25\n",
            "weighted avg       1.00      1.00      1.00        25\n",
            "\n",
            "\n",
            "[Non-Akademik]\n",
            "              precision    recall  f1-score   support\n",
            "\n",
            "           0       1.00      0.96      0.98        24\n",
            "           1       0.50      1.00      0.67         1\n",
            "\n",
            "    accuracy                           0.96        25\n",
            "   macro avg       0.75      0.98      0.82        25\n",
            "weighted avg       0.98      0.96      0.97        25\n",
            "\n",
            "\n",
            "[Konsistensi]\n",
            "              precision    recall  f1-score   support\n",
            "\n",
            "           0       0.50      0.50      0.50         2\n",
            "           1       0.92      0.92      0.92        12\n",
            "           2       1.00      1.00      1.00        11\n",
            "\n",
            "    accuracy                           0.92        25\n",
            "   macro avg       0.81      0.81      0.81        25\n",
            "weighted avg       0.92      0.92      0.92        25\n",
            "\n",
            "\n",
            "[Magang Awal]\n",
            "              precision    recall  f1-score   support\n",
            "\n",
            "           0       1.00      1.00      1.00        24\n",
            "           1       1.00      1.00      1.00         1\n",
            "\n",
            "    accuracy                           1.00        25\n",
            "   macro avg       1.00      1.00      1.00        25\n",
            "weighted avg       1.00      1.00      1.00        25\n",
            "\n"
          ]
        },
        {
          "output_type": "execute_result",
          "data": {
            "text/plain": [
              "['ml_models/magang_model.pkl']"
            ]
          },
          "metadata": {},
          "execution_count": 4
        }
      ],
      "source": [
        "import pandas as pd\n",
        "import os\n",
        "import joblib\n",
        "\n",
        "from sklearn.model_selection import train_test_split\n",
        "from sklearn.linear_model import LogisticRegression\n",
        "from sklearn.ensemble import RandomForestClassifier\n",
        "from sklearn.preprocessing import LabelEncoder\n",
        "from sklearn.metrics import classification_report\n",
        "\n",
        "# Buat folder untuk simpan model\n",
        "os.makedirs(\"ml_models\", exist_ok=True)\n",
        "\n",
        "# Load dataset\n",
        "df = pd.read_csv(\"altara_dataset.csv\")\n",
        "\n",
        "# Encode kolom konsistensi\n",
        "le = LabelEncoder()\n",
        "df['konsistensi_encoded'] = le.fit_transform(df['konsistensi'])\n",
        "\n",
        "# Lihat hasil encoding untuk referensi\n",
        "print(\"Label Encoding untuk konsistensi:\", dict(zip(le.classes_, le.transform(le.classes_))))\n",
        "\n",
        "# Definisikan fitur utama\n",
        "X = df[['midterm_score', 'final_score', 'project_score', 'attendance']]\n",
        "\n",
        "# ====== Model 1: Eligible Beasiswa ======\n",
        "y = df['eligible_beasiswa']\n",
        "X_train, X_test, y_train, y_test = train_test_split(X, y, random_state=42)\n",
        "model_beasiswa = LogisticRegression(class_weight='balanced')\n",
        "model_beasiswa.fit(X_train, y_train)\n",
        "print(\"\\n[Eligible Beasiswa]\")\n",
        "print(classification_report(y_test, model_beasiswa.predict(X_test)))\n",
        "joblib.dump(model_beasiswa, \"ml_models/beasiswa_model.pkl\")\n",
        "\n",
        "# ====== Model 2: Non-Akademik ======\n",
        "y = df['non_akademik']\n",
        "X_train, X_test, y_train, y_test = train_test_split(X, y, random_state=42)\n",
        "model_non_akademik = LogisticRegression(class_weight='balanced')\n",
        "model_non_akademik.fit(X_train, y_train)\n",
        "print(\"\\n[Non-Akademik]\")\n",
        "print(classification_report(y_test, model_non_akademik.predict(X_test)))\n",
        "joblib.dump(model_non_akademik, \"ml_models/non_akademik_model.pkl\")\n",
        "\n",
        "# ====== Model 3: Konsistensi ======\n",
        "y = df['konsistensi_encoded']\n",
        "X_train, X_test, y_train, y_test = train_test_split(X, y, random_state=42)\n",
        "model_konsistensi = RandomForestClassifier()\n",
        "model_konsistensi.fit(X_train, y_train)\n",
        "print(\"\\n[Konsistensi]\")\n",
        "print(classification_report(y_test, model_konsistensi.predict(X_test)))\n",
        "joblib.dump(model_konsistensi, \"ml_models/konsistensi_model.pkl\")\n",
        "\n",
        "# ====== Model 4: Magang Awal ======\n",
        "y = df['magang_awal']\n",
        "X_train, X_test, y_train, y_test = train_test_split(X, y, random_state=42)\n",
        "model_magang = LogisticRegression(class_weight='balanced')\n",
        "model_magang.fit(X_train, y_train)\n",
        "print(\"\\n[Magang Awal]\")\n",
        "print(classification_report(y_test, model_magang.predict(X_test)))\n",
        "joblib.dump(model_magang, \"ml_models/magang_model.pkl\")\n"
      ]
    }
  ]
}